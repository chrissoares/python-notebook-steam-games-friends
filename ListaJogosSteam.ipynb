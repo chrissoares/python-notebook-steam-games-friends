{
  "nbformat": 4,
  "nbformat_minor": 0,
  "metadata": {
    "colab": {
      "provenance": []
    },
    "kernelspec": {
      "name": "python3",
      "display_name": "Python 3"
    },
    "language_info": {
      "name": "python"
    }
  },
  "cells": [
    {
      "cell_type": "markdown",
      "source": [
        "# Santander Dev Week 2023 (ETL com Python)"
      ],
      "metadata": {
        "id": "7rgZs6ssOtbF"
      }
    },
    {
      "cell_type": "markdown",
      "source": [
        "#### Como criar sua chave para API da Steam\n",
        "\n",
        "Para obter uma chave de API da Steam e começar a usar a Steam Web API, siga estes passos:\n",
        "\n",
        "1. **Crie uma Conta de Desenvolvedor na Steam**:  \n",
        "Se você ainda não possui uma conta de desenvolvedor na Steam, crie uma em Steamworks. Você precisará de uma conta Steam válida para fazer isso.\n",
        "\n",
        "2. **Configure um Novo Aplicativo**:  \n",
        "Após criar sua conta de desenvolvedor, faça login no Steamworks e vá para a seção \"Meus aplicativos\". Clique em \"Registrar um aplicativo\".\n",
        "\n",
        "3. **Preencha as Informações do Aplicativo**:\n",
        "    - Preencha os detalhes do seu aplicativo, incluindo nome, descrição e categoria.\n",
        "    - Selecione o tipo de API que deseja usar (geralmente \"Web API\").\n",
        "    - Escolha a permissão adequada para o seu aplicativo, dependendo das informações que você planeja acessar. Por exemplo, se você deseja acessar a lista de jogos em uma biblioteca de um usuário, você precisará da permissão \"Usuário: Biblioteca de jogos\".\n",
        "\n",
        "4. **Receba sua Chave de Desenvolvedor**:  \n",
        "Após registrar o aplicativo, você receberá uma \"Chave de publicação\" (publish key) e uma \"Chave secreta\" (secret key). A \"Chave secreta\" é usada para autenticar as chamadas da API e não deve ser compartilhada publicamente. Mantenha essa chave em segurança.\n",
        "\n",
        "5. **Use sua Chave de API em seu Aplicativo**:  \n",
        "Você pode começar a usar sua chave de API em seu aplicativo para fazer chamadas à Steam Web API. Certifique-se de que o aplicativo solicite as permissões corretas aos usuários e siga as políticas e restrições da Steam para o uso da API.\n",
        "\n",
        "6. **Limite de Taxa de Solicitação**:  \n",
        "Lembre-se de que a Steam Web API impõe limites de taxa de solicitação. Certifique-se de não exceder esses limites para evitar bloqueios de acesso à API.\n",
        "\n",
        "7. **Respeite os Termos de Serviço da Steam**:  \n",
        "Certifique-se de que seu uso da Steam Web API esteja em conformidade com os Termos de Serviço da Steam e as políticas de desenvolvimento da Valve. A Valve pode revogar seu acesso à API se você violar esses termos.\n",
        "\n",
        "#### Como encontrar o seu SteamID\n",
        "\n",
        "https://help.steampowered.com/pt-br/faqs/view/2816-BE67-5B69-0FEC\n"
      ],
      "metadata": {
        "id": "I5q2_6sTQp9K"
      }
    },
    {
      "cell_type": "markdown",
      "source": [
        "## Configurando as Keys"
      ],
      "metadata": {
        "id": "59TnA8D0ObfY"
      }
    },
    {
      "cell_type": "code",
      "source": [
        "import requests\n",
        "import json\n",
        "import credentials\n",
        "\n",
        "# Crie um arquivo credentials.py contend:\n",
        "# api_key = 'YOUR_API_KEY'\n",
        "# steam_id = 'YOUR_STEAM_ID'\n",
        "# Substitua:\n",
        "#   'YOUR_API_KEY' pela sua chave de API de desenvolvedor Steam\n",
        "#   'YOUR_STEAM_ID' pelo seu ID Steam (ou do amigo que deseja consultar)\n",
        "\n",
        "api_key = credentials.api_key\n",
        "\n",
        "steam_id = credentials.steam_id\n"
      ],
      "metadata": {
        "id": "ozJek9gFC44g"
      },
      "execution_count": 43,
      "outputs": []
    },
    {
      "cell_type": "markdown",
      "source": [
        "## Extract"
      ],
      "metadata": {
        "id": "56oG9izLOx7i"
      }
    },
    {
      "cell_type": "code",
      "source": [
        "# @title\n",
        "# recupera a lista de jogos que possui:\n",
        "def get_game_list():\n",
        "  url = f'https://api.steampowered.com/IPlayerService/GetOwnedGames/v0001/?key={api_key}&steamid={steam_id}&format=json&include_appinfo=true'\n",
        "  try:\n",
        "    response = requests.get(url)\n",
        "    return response.json() if response.status_code == 200 else None\n",
        "\n",
        "  except Exception as e:\n",
        "    return {\n",
        "        'success': False,\n",
        "        'message': f'Erro: {str(e)}'\n",
        "    }\n",
        "\n",
        "my_games = get_game_list()\n",
        "# print(json.dumps(my_games, indent=2))"
      ],
      "metadata": {
        "cellView": "form",
        "id": "QW5U1NGsHj0j"
      },
      "execution_count": 44,
      "outputs": []
    },
    {
      "cell_type": "code",
      "execution_count": null,
      "metadata": {
        "id": "PGntAjgF_nSw"
      },
      "outputs": [],
      "source": [
        "# Recuperar a lista de amigos na Steam\n",
        "\n",
        "def friend_list():\n",
        "  # URL da Steam Web API para recuperar a lista de amigos\n",
        "  url = f'http://api.steampowered.com/ISteamUser/GetFriendList/v0001/?key={api_key}&steamid={steam_id}&relationship=friend&format=json'\n",
        "  try:\n",
        "    response = requests.get(url)\n",
        "    return response.json() if response.status_code == 200 else None\n",
        "\n",
        "  except Exception as e:\n",
        "    return None\n",
        "\n",
        "my_friends = friend_list()['friendslist']['friends']\n",
        "# print(json.dumps(my_friends, indent=2))"
      ]
    },
    {
      "cell_type": "code",
      "source": [
        "# Recupera os dados dos 100 primeiros amigo da lista - Restrição da Steam\n",
        "\n",
        "def get_friends_details(friends):\n",
        "\n",
        "  friend_ids = ''\n",
        "  for index, friend in enumerate(friends):\n",
        "      if index > 100:\n",
        "          break\n",
        "      friend_ids += (',' if len(friend_ids) > 0 else '') + friend['steamid']\n",
        "\n",
        "  url = f'http://api.steampowered.com/ISteamUser/GetPlayerSummaries/v2/?key={api_key}&steamids={friend_ids}'\n",
        "\n",
        "  friends_details = requests.get(url)\n",
        "\n",
        "  return friends_details.json() if friends_details.status_code == 200 else None\n",
        "\n",
        "my_friends_detailed_list = get_friends_details(my_friends)\n",
        "# print(json.dumps(my_friends_detailed_list, indent=2))"
      ],
      "metadata": {
        "id": "Lwd9N1AIbAP8"
      },
      "execution_count": null,
      "outputs": []
    },
    {
      "cell_type": "code",
      "source": [
        "# Recupera os dados de um amigo\n",
        "\n",
        "def get_friend_detail(friend):\n",
        "\n",
        "  friend_id = friend['steamid']\n",
        "\n",
        "  url = f'http://api.steampowered.com/ISteamUser/GetPlayerSummaries/v2/?key={api_key}&steamids={friend_id}'\n",
        "  friend_detail = requests.get(url)\n",
        "\n",
        "  if friend_detail.status_code == 200:\n",
        "    friend_detail = friend_detail.json()\n",
        "    friend_detail = friend_detail['response']['players'][0]\n",
        "    return friend_detail\n",
        "  else:\n",
        "    return None\n",
        "\n",
        "friend_detail = get_friend_detail(my_friends[0])\n",
        "# print(json.dumps(friend_detail, indent=2))"
      ],
      "metadata": {
        "id": "Ou5v9DC0r_M2"
      },
      "execution_count": null,
      "outputs": []
    },
    {
      "cell_type": "code",
      "source": [
        "# Recupera a lista de jogos de um amigo\n",
        "def friend_games_list(friend):\n",
        "  friend_id = friend['steamid']\n",
        "  games_url = f'http://api.steampowered.com/IPlayerService/GetOwnedGames/v1/?key={api_key}&steamid={friend_id}&format=json&include_appinfo=true&appids_filter'\n",
        "  games_response = requests.get(games_url)\n",
        "\n",
        "  return games_response.json() if games_response.status_code == 200 else None\n",
        "\n",
        "games_list = friend_games_list(my_friends[1])\n",
        "# print(json.dumps(games_list, indent=2))"
      ],
      "metadata": {
        "id": "8EIawDjBDHGq"
      },
      "execution_count": null,
      "outputs": []
    },
    {
      "cell_type": "markdown",
      "source": [
        "## Transform\n"
      ],
      "metadata": {
        "id": "Oermv4t2Whqw"
      }
    },
    {
      "cell_type": "code",
      "source": [
        "# Adiciona aos Amigos seus respectivos jogos\n",
        "for index, friend in enumerate(my_friends_detailed_list['response']['players']):\n",
        "  friend_games = friend_games_list(friend)\n",
        "  friend.setdefault(\"games\", friend_games)\n",
        "\n"
      ],
      "metadata": {
        "id": "n0y-fCLdEPwp"
      },
      "execution_count": null,
      "outputs": []
    },
    {
      "cell_type": "markdown",
      "source": [
        "## Load"
      ],
      "metadata": {
        "id": "AGyqr0uUW-vk"
      }
    },
    {
      "cell_type": "code",
      "source": [
        "# Lista dos amigos com seus respectivos jogos\n",
        "print(json.dumps(my_friends_detailed_list, indent=2))\n",
        "\n",
        "# Lista dos seus jogos\n",
        "print(json.dumps(my_games, indent=2))\n"
      ],
      "metadata": {
        "id": "JVCY_tTHMCfo"
      },
      "execution_count": null,
      "outputs": []
    }
  ]
}